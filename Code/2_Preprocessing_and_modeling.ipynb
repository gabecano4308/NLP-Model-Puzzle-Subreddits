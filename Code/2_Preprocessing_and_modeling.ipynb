{
 "cells": [
  {
   "cell_type": "markdown",
   "metadata": {},
   "source": [
    "## Imports"
   ]
  },
  {
   "cell_type": "code",
   "execution_count": 134,
   "metadata": {},
   "outputs": [],
   "source": [
    "import pandas as pd\n",
    "import numpy as np\n",
    "import matplotlib.pyplot as plt\n",
    "import seaborn as sns\n",
    "import re\n",
    "from nltk.tokenize import sent_tokenize, word_tokenize, RegexpTokenizer\n",
    "from nltk.stem import WordNetLemmatizer\n",
    "from nltk.stem.porter import PorterStemmer\n",
    "from sklearn.linear_model import LogisticRegression\n",
    "from sklearn.model_selection import train_test_split, GridSearchCV\n",
    "from sklearn.pipeline import Pipeline\n",
    "from sklearn.metrics import confusion_matrix, plot_confusion_matrix\n",
    "from sklearn.naive_bayes import MultinomialNB\n",
    "from sklearn.feature_extraction.text import CountVectorizer, TfidfVectorizer, TfidfTransformer\n",
    "from sklearn.svm import SVC"
   ]
  },
  {
   "cell_type": "code",
   "execution_count": 135,
   "metadata": {},
   "outputs": [],
   "source": [
    "# Reading in datasets created in the 1_Scraping_and_cleaning notebook\n",
    "titles_and_text = pd.read_csv('./Data/titles_and_text.csv')\n",
    "titles_and_text_no_cw_or_sudoku = pd.read_csv('./Data/titles_and_text_no_cw_or_sud.csv')"
   ]
  },
  {
   "cell_type": "markdown",
   "metadata": {},
   "source": [
    "## Exploratory Data Analysis and Modeling Preparation"
   ]
  },
  {
   "cell_type": "code",
   "execution_count": 136,
   "metadata": {},
   "outputs": [
    {
     "name": "stderr",
     "output_type": "stream",
     "text": [
      "/Users/gcano01/opt/anaconda3/lib/python3.8/site-packages/seaborn/distributions.py:2551: FutureWarning: `distplot` is a deprecated function and will be removed in a future version. Please adapt your code to use either `displot` (a figure-level function with similar flexibility) or `histplot` (an axes-level function for histograms).\n",
      "  warnings.warn(msg, FutureWarning)\n",
      "/Users/gcano01/opt/anaconda3/lib/python3.8/site-packages/seaborn/distributions.py:2551: FutureWarning: `distplot` is a deprecated function and will be removed in a future version. Please adapt your code to use either `displot` (a figure-level function with similar flexibility) or `histplot` (an axes-level function for histograms).\n",
      "  warnings.warn(msg, FutureWarning)\n"
     ]
    },
    {
     "data": {
      "image/png": "[encoded data removed]",
      "text/plain": [
       "<Figure size 432x288 with 1 Axes>"
      ]
     },
     "metadata": {
      "needs_background": "light"
     },
     "output_type": "display_data"
    }
   ],
   "source": [
    "# Plotting the distribution of length for each text by crossword and sudoku subreddit\n",
    "\n",
    "cw_length = titles_and_text[titles_and_text['subreddit'] == 1]['text'].str.len()\n",
    "sns.distplot(cw_length, label='Crossword', kde=False)\n",
    "sud_length = titles_and_text[titles_and_text['subreddit'] == 0]['text'].str.len()\n",
    "sns.distplot(sud_length, label='Sudoku', kde=False)\n",
    "plt.title('Distribution of Text Character Lengths')\n",
    "plt.xlabel('Text')\n",
    "plt.ylabel('Number of Characters')\n",
    "plt.xlim(0, 1300)\n",
    "plt.legend();"
   ]
  },
  {
   "cell_type": "markdown",
   "metadata": {},
   "source": [
    "Some of the above plotting is based off code from this Kaggle [page](https://www.kaggle.com/pceccon/countvectorizer-and-tfidf-strategies). "
   ]
  },
  {
   "cell_type": "code",
   "execution_count": 137,
   "metadata": {},
   "outputs": [
    {
     "name": "stdout",
     "output_type": "stream",
     "text": [
      "Mean length of crossword text: 153.50397614314116.\n",
      "Mean length of sudoku text: 139.4848284960422.\n"
     ]
    }
   ],
   "source": [
    "print(f'Mean length of crossword text: {cw_length.mean()}.')\n",
    "print(f'Mean length of sudoku text: {sud_length.mean()}.') "
   ]
  },
  {
   "cell_type": "markdown",
   "metadata": {},
   "source": [
    "Takeaway: on average, post titles and selftexts are slightly longer in the crossword subreddit than in the sudoku subreddit."
   ]
  },
  {
   "cell_type": "code",
   "execution_count": 138,
   "metadata": {},
   "outputs": [
    {
     "data": {
      "text/html": [
       "<div>\n",
       "<style scoped>\n",
       "    .dataframe tbody tr th:only-of-type {\n",
       "        vertical-align: middle;\n",
       "    }\n",
       "\n",
       "    .dataframe tbody tr th {\n",
       "        vertical-align: top;\n",
       "    }\n",
       "\n",
       "    .dataframe thead th {\n",
       "        text-align: right;\n",
       "    }\n",
       "</style>\n",
       "<table border=\"1\" class=\"dataframe\">\n",
       "  <thead>\n",
       "    <tr style=\"text-align: right;\">\n",
       "      <th></th>\n",
       "      <th>count</th>\n",
       "      <th>unique</th>\n",
       "      <th>top</th>\n",
       "      <th>freq</th>\n",
       "    </tr>\n",
       "    <tr>\n",
       "      <th>subreddit</th>\n",
       "      <th></th>\n",
       "      <th></th>\n",
       "      <th></th>\n",
       "      <th></th>\n",
       "    </tr>\n",
       "  </thead>\n",
       "  <tbody>\n",
       "    <tr>\n",
       "      <th>0</th>\n",
       "      <td>1516</td>\n",
       "      <td>1438</td>\n",
       "      <td>help</td>\n",
       "      <td>11</td>\n",
       "    </tr>\n",
       "    <tr>\n",
       "      <th>1</th>\n",
       "      <td>2012</td>\n",
       "      <td>1718</td>\n",
       "      <td>a weekly open discussion about crosswords and ...</td>\n",
       "      <td>48</td>\n",
       "    </tr>\n",
       "  </tbody>\n",
       "</table>\n",
       "</div>"
      ],
      "text/plain": [
       "          count unique                                                top freq\n",
       "subreddit                                                                     \n",
       "0          1516   1438                                               help   11\n",
       "1          2012   1718  a weekly open discussion about crosswords and ...   48"
      ]
     },
     "execution_count": 138,
     "metadata": {},
     "output_type": "execute_result"
    }
   ],
   "source": [
    "titles_and_text.groupby(['subreddit'])['text'].describe()"
   ]
  },
  {
   "cell_type": "markdown",
   "metadata": {},
   "source": [
    "Takeaway: the most frequent crossword post is the selftext for a discussion thread that's posted on the subreddit every week."
   ]
  },
  {
   "cell_type": "code",
   "execution_count": 139,
   "metadata": {},
   "outputs": [],
   "source": [
    "# Creating two sets of predicter and target variables -- one with 'crossword' and 'sudoku' \n",
    "# included, another without them included.\n",
    "\n",
    "X = titles_and_text['lemmatized_text']\n",
    "y = titles_and_text['subreddit'] \n",
    "\n",
    "X_omit = titles_and_text_no_cw_or_sudoku['lemmatized_text'] \n",
    "y_omit = titles_and_text_no_cw_or_sudoku['subreddit']"
   ]
  },
  {
   "cell_type": "code",
   "execution_count": 140,
   "metadata": {},
   "outputs": [
    {
     "data": {
      "text/plain": [
       "1    0.570295\n",
       "0    0.429705\n",
       "Name: subreddit, dtype: float64"
      ]
     },
     "execution_count": 140,
     "metadata": {},
     "output_type": "execute_result"
    }
   ],
   "source": [
    "# Baseline accuracy for modeling is ~57%\n",
    "y.value_counts(normalize=True)"
   ]
  },
  {
   "cell_type": "code",
   "execution_count": 141,
   "metadata": {},
   "outputs": [],
   "source": [
    "# Splitting data into train and test sets\n",
    "X_train, X_test, y_train, y_test = train_test_split(X, y, test_size = 0.3, stratify = y, random_state=42)\n",
    "X_train_omit, X_test_omit, y_train_omit, y_test_omit = train_test_split(X_omit, \n",
    "                                                                        y_omit, \n",
    "                                                                        test_size = 0.3, \n",
    "                                                                        stratify = y, random_state=42)"
   ]
  },
  {
   "cell_type": "code",
   "execution_count": 142,
   "metadata": {},
   "outputs": [],
   "source": [
    "from sklearn.feature_extraction.stop_words import ENGLISH_STOP_WORDS as stopwords\n",
    "stopwords = list(stopwords)"
   ]
  },
  {
   "cell_type": "code",
   "execution_count": 143,
   "metadata": {},
   "outputs": [],
   "source": [
    "# bad_words contains words to remove from the CountVectorize transformation, adding to the imported stopwords list \n",
    "bad_words = ['https', 'http', 'com', 'www', 'redd', 'reddit', 'gt', 'lt', 've']\n",
    "stopwords.extend(bad_words)"
   ]
  },
  {
   "cell_type": "code",
   "execution_count": 144,
   "metadata": {},
   "outputs": [],
   "source": [
    "# Instantiating CountVectorizer\n",
    "cvec = CountVectorizer(stop_words=stopwords, min_df=3)"
   ]
  },
  {
   "cell_type": "code",
   "execution_count": 145,
   "metadata": {},
   "outputs": [],
   "source": [
    "# Fitting CountVectorizer with X_train_omit data\n",
    "fitted = cvec.fit(X_train_omit.values.astype('U'))\n",
    "X_train_cvec = fitted.transform(X_train_omit.values.astype('U'))"
   ]
  },
  {
   "cell_type": "code",
   "execution_count": 146,
   "metadata": {},
   "outputs": [],
   "source": [
    "# Transforming X_test data using the CountVectorizer fitted with X_test_omit\n",
    "X_test_cvec = fitted.transform(X_test_omit.values.astype('U'))"
   ]
  },
  {
   "cell_type": "markdown",
   "metadata": {},
   "source": [
    "Found .values.astype('U') code from this [stackoverrun](https://stackoverrun.com/de/q/10828749)."
   ]
  },
  {
   "cell_type": "code",
   "execution_count": 147,
   "metadata": {},
   "outputs": [
    {
     "name": "stdout",
     "output_type": "stream",
     "text": [
      "(2469, 1444)\n",
      "(1059, 1444)\n"
     ]
    }
   ],
   "source": [
    "print(X_train_cvec.shape)\n",
    "print(X_test_cvec.shape)"
   ]
  },
  {
   "cell_type": "code",
   "execution_count": 148,
   "metadata": {},
   "outputs": [],
   "source": [
    "# Making X_train_cvec into a DataFrame\n",
    "X_train_cvec_df = pd.DataFrame(X_train_cvec.todense(), columns=cvec.get_feature_names())"
   ]
  },
  {
   "cell_type": "code",
   "execution_count": 149,
   "metadata": {},
   "outputs": [
    {
     "data": {
      "image/png": "[encoded data removed]",
      "text/plain": [
       "<Figure size 1080x576 with 1 Axes>"
      ]
     },
     "metadata": {
      "needs_background": "light"
     },
     "output_type": "display_data"
    }
   ],
   "source": [
    "# Plotting most common words from DataFrame\n",
    "plt.figure(figsize=(15,8))\n",
    "X_train_cvec_df.sum().sort_values(ascending=False).head(30).plot(kind='barh');"
   ]
  },
  {
   "cell_type": "code",
   "execution_count": 150,
   "metadata": {},
   "outputs": [
    {
     "data": {
      "image/png": "[encoded data removed]",
      "text/plain": [
       "<Figure size 1080x576 with 1 Axes>"
      ]
     },
     "metadata": {
      "needs_background": "light"
     },
     "output_type": "display_data"
    }
   ],
   "source": [
    "cv_bigrams = CountVectorizer(ngram_range=(2, 2), stop_words=stopwords)\n",
    "cv_bigrams.fit(X_train_omit)\n",
    "\n",
    "bigrams_cv = cv_bigrams.transform(X)\n",
    "bigrams_df = pd.DataFrame(bigrams_cv.todense(),\n",
    "                          columns=cv_bigrams.get_feature_names())\n",
    "\n",
    "plt.figure(figsize=(15,8))\n",
    "\n",
    "bigrams_df.sum().sort_values(ascending=False).head(30).plot(kind = 'barh');"
   ]
  },
  {
   "cell_type": "markdown",
   "metadata": {},
   "source": [
    "Above code partially drawn from Lab 5.01. "
   ]
  },
  {
   "cell_type": "markdown",
   "metadata": {},
   "source": [
    "There are plenty of posts welcoming users to threads while also warning against spoilers, since the answers to puzzles often get discussed. "
   ]
  },
  {
   "cell_type": "markdown",
   "metadata": {},
   "source": [
    "## Modeling"
   ]
  },
  {
   "cell_type": "markdown",
   "metadata": {},
   "source": [
    "The structure of the below modeling code is partially taken from Lab Review 5.02 and from Lesson 6.03."
   ]
  },
  {
   "cell_type": "code",
   "execution_count": 151,
   "metadata": {},
   "outputs": [],
   "source": [
    "# Pipeline Grid Search on a Logistic Regression Model\n",
    "# Adding the best parameters and scores to model_params dictionary\n",
    "\n",
    "model_params = {}\n",
    "pipe_lr = Pipeline([\n",
    "    ('cvec', CountVectorizer()),\n",
    "    ('tf', TfidfTransformer()),\n",
    "    ('logreg', LogisticRegression(solver = 'liblinear'))\n",
    "])\n",
    "\n",
    "pipe_params_lr = {\n",
    "    'cvec__max_features': [1000, 2000, None],\n",
    "    'cvec__stop_words'  : [None, 'english', stopwords],\n",
    "    'tf__use_idf': [True, False], #if True, acts like TFIDF, if False, acts like CountVectorizer\n",
    "    'logreg__penalty' : ['l2', 'l1'],\n",
    "    'logreg__C' : [0.1, 1, 10]\n",
    "}\n",
    "\n",
    "gs_lr = GridSearchCV(pipe_lr, param_grid=pipe_params_lr, cv=5, n_jobs=6)\n",
    "gs_lr.fit(X_train, y_train)\n",
    "\n",
    "gs_lr.best_params_['gs_best_score'] = gs_lr.best_score_\n",
    "gs_lr.best_params_['train_score'] = gs_lr.score(X_train, y_train)\n",
    "gs_lr.best_params_['test_score'] = gs_lr.score(X_test, y_test)\n",
    "model_params['logreg_model'] = gs_lr.best_params_"
   ]
  },
  {
   "cell_type": "code",
   "execution_count": 152,
   "metadata": {},
   "outputs": [],
   "source": [
    "# Performing the above Pipeline Grid Search on the training data that ommitted the words\n",
    "# 'crossword' and 'sudoku'.\n",
    "# Adding the best parameters and scores to model_params_omit dictionary\n",
    "\n",
    "model_params_omit = {}\n",
    "\n",
    "gs_lr_omit = GridSearchCV(pipe_lr, param_grid=pipe_params_lr, cv=5, n_jobs=6)\n",
    "gs_lr_omit.fit(X_train_omit, y_train_omit)\n",
    "\n",
    "gs_lr_omit.best_params_['gs_best_score'] = gs_lr_omit.best_score_\n",
    "gs_lr_omit.best_params_['train_score'] = gs_lr_omit.score(X_train_omit, y_train_omit)\n",
    "gs_lr_omit.best_params_['test_score'] = gs_lr_omit.score(X_test_omit, y_test_omit)\n",
    "model_params_omit['logreg_model'] = gs_lr_omit.best_params_"
   ]
  },
  {
   "cell_type": "code",
   "execution_count": 153,
   "metadata": {},
   "outputs": [],
   "source": [
    "# Pipeline Grid Search on a Support Vector Classifier Model\n",
    "# Adding the best parameters and scores to model_params dictionary\n",
    "\n",
    "pipe_svc = Pipeline([\n",
    "    ('cvec', CountVectorizer()),\n",
    "    ('tf', TfidfTransformer()),\n",
    "    ('svc', SVC(degree=2))\n",
    "])\n",
    "\n",
    "pipe_params_svc = {\n",
    "    'cvec__max_features': [1000, 2000, None],\n",
    "    'cvec__stop_words'  : [None, 'english', stopwords],\n",
    "    'tf__use_idf': [True, False], #if True, acts like TFIDF, if False, acts like CountVectorizer\n",
    "    'svc__C' : [.1, 1, 10],\n",
    "    'svc__gamma' : ['scale', 'auto']\n",
    "}\n",
    "\n",
    "gs_svc = GridSearchCV(pipe_svc, param_grid=pipe_params_svc, cv=5, n_jobs=6)\n",
    "gs_svc.fit(X_train, y_train)\n",
    "\n",
    "gs_svc.best_params_['gs_best_score'] = gs_svc.best_score_\n",
    "gs_svc.best_params_['train_score'] = gs_svc.score(X_train, y_train)\n",
    "gs_svc.best_params_['test_score'] = gs_svc.score(X_test, y_test)\n",
    "model_params['svc_model'] = gs_svc.best_params_"
   ]
  },
  {
   "cell_type": "code",
   "execution_count": 154,
   "metadata": {},
   "outputs": [],
   "source": [
    "# Performing the above Pipeline Grid Search on the training data that ommitted the words\n",
    "# 'crossword' and 'sudoku'.\n",
    "# Adding the best parameters and scores to model_params_omit dictionary\n",
    "\n",
    "gs_svc_omit = GridSearchCV(pipe_svc, param_grid=pipe_params_svc, cv=5, n_jobs=6)\n",
    "gs_svc_omit.fit(X_train_omit, y_train_omit)\n",
    "\n",
    "gs_svc_omit.best_params_['gs_best_score'] = gs_svc_omit.best_score_\n",
    "gs_svc_omit.best_params_['train_score'] = gs_svc_omit.score(X_train_omit, y_train_omit)\n",
    "gs_svc_omit.best_params_['test_score'] = gs_svc_omit.score(X_test_omit, y_test_omit)\n",
    "model_params_omit['svc_model'] = gs_svc_omit.best_params_"
   ]
  },
  {
   "cell_type": "code",
   "execution_count": 155,
   "metadata": {},
   "outputs": [],
   "source": [
    "# Pipeline Grid Search on a Naive Bayes Model\n",
    "# Adding the best parameters and scores to model_params dictionary\n",
    "\n",
    "pipe_nb = Pipeline([\n",
    "    ('cvec', CountVectorizer()),\n",
    "    ('tf', TfidfTransformer()),\n",
    "    ('nb', MultinomialNB())\n",
    "])\n",
    "\n",
    "pipe_params_nb = {\n",
    "    'cvec__max_features': [1000, 2000, None],\n",
    "    'cvec__stop_words'  : [None, 'english', stopwords],\n",
    "    'tf__use_idf': [True, False], #if True, acts like TFIDF, if False, acts like CountVectorizer\n",
    "    'nb__alpha' : [.1, 1, 10],\n",
    "    'nb__fit_prior' : [True, False]\n",
    "}\n",
    "\n",
    "gs_nb = GridSearchCV(pipe_nb, param_grid=pipe_params_nb, cv=5, n_jobs=6)\n",
    "gs_nb.fit(X_train, y_train)\n",
    "\n",
    "gs_nb.best_params_['gs_best_score'] = gs_nb.best_score_\n",
    "gs_nb.best_params_['train_score'] = gs_nb.score(X_train, y_train)\n",
    "gs_nb.best_params_['test_score'] = gs_nb.score(X_test, y_test)\n",
    "model_params['nb_model'] = gs_nb.best_params_"
   ]
  },
  {
   "cell_type": "code",
   "execution_count": 156,
   "metadata": {},
   "outputs": [],
   "source": [
    "# Performing the above Pipeline Grid Search on the training data that omitted the words\n",
    "# 'crossword' and 'sudoku'.\n",
    "# Adding the best parameters and scores to model_params_omit dictionary\n",
    "\n",
    "gs_nb_omit = GridSearchCV(pipe_nb, param_grid=pipe_params_nb, cv=5, n_jobs=6)\n",
    "gs_nb_omit.fit(X_train_omit, y_train_omit)\n",
    "\n",
    "gs_nb_omit.best_params_['gs_best_score'] = gs_nb_omit.best_score_\n",
    "gs_nb_omit.best_params_['train_score'] = gs_nb_omit.score(X_train_omit, y_train_omit)\n",
    "gs_nb_omit.best_params_['test_score'] = gs_nb_omit.score(X_test_omit, y_test_omit)\n",
    "model_params_omit['nb_model'] = gs_nb_omit.best_params_"
   ]
  },
  {
   "cell_type": "code",
   "execution_count": 157,
   "metadata": {},
   "outputs": [
    {
     "data": {
      "text/html": [
       "<div>\n",
       "<style scoped>\n",
       "    .dataframe tbody tr th:only-of-type {\n",
       "        vertical-align: middle;\n",
       "    }\n",
       "\n",
       "    .dataframe tbody tr th {\n",
       "        vertical-align: top;\n",
       "    }\n",
       "\n",
       "    .dataframe thead th {\n",
       "        text-align: right;\n",
       "    }\n",
       "</style>\n",
       "<table border=\"1\" class=\"dataframe\">\n",
       "  <thead>\n",
       "    <tr style=\"text-align: right;\">\n",
       "      <th></th>\n",
       "      <th>cvec__max_features</th>\n",
       "      <th>cvec__stop_words</th>\n",
       "      <th>logreg__C</th>\n",
       "      <th>logreg__penalty</th>\n",
       "      <th>tf__use_idf</th>\n",
       "      <th>gs_best_score</th>\n",
       "      <th>train_score</th>\n",
       "      <th>test_score</th>\n",
       "      <th>svc__C</th>\n",
       "      <th>svc__gamma</th>\n",
       "      <th>nb__alpha</th>\n",
       "      <th>nb__fit_prior</th>\n",
       "    </tr>\n",
       "  </thead>\n",
       "  <tbody>\n",
       "    <tr>\n",
       "      <th>svc_model</th>\n",
       "      <td>None</td>\n",
       "      <td>None</td>\n",
       "      <td>NaN</td>\n",
       "      <td>NaN</td>\n",
       "      <td>True</td>\n",
       "      <td>0.940866</td>\n",
       "      <td>0.997975</td>\n",
       "      <td>0.930123</td>\n",
       "      <td>10.0</td>\n",
       "      <td>scale</td>\n",
       "      <td>NaN</td>\n",
       "      <td>NaN</td>\n",
       "    </tr>\n",
       "    <tr>\n",
       "      <th>logreg_model</th>\n",
       "      <td>None</td>\n",
       "      <td>None</td>\n",
       "      <td>10.0</td>\n",
       "      <td>l2</td>\n",
       "      <td>True</td>\n",
       "      <td>0.936004</td>\n",
       "      <td>0.995950</td>\n",
       "      <td>0.928234</td>\n",
       "      <td>NaN</td>\n",
       "      <td>NaN</td>\n",
       "      <td>NaN</td>\n",
       "      <td>NaN</td>\n",
       "    </tr>\n",
       "    <tr>\n",
       "      <th>nb_model</th>\n",
       "      <td>None</td>\n",
       "      <td>None</td>\n",
       "      <td>NaN</td>\n",
       "      <td>NaN</td>\n",
       "      <td>False</td>\n",
       "      <td>0.933985</td>\n",
       "      <td>0.978129</td>\n",
       "      <td>0.930123</td>\n",
       "      <td>NaN</td>\n",
       "      <td>NaN</td>\n",
       "      <td>0.1</td>\n",
       "      <td>True</td>\n",
       "    </tr>\n",
       "  </tbody>\n",
       "</table>\n",
       "</div>"
      ],
      "text/plain": [
       "             cvec__max_features cvec__stop_words  logreg__C logreg__penalty  \\\n",
       "svc_model                  None             None        NaN             NaN   \n",
       "logreg_model               None             None       10.0              l2   \n",
       "nb_model                   None             None        NaN             NaN   \n",
       "\n",
       "              tf__use_idf  gs_best_score  train_score  test_score  svc__C  \\\n",
       "svc_model            True       0.940866     0.997975    0.930123    10.0   \n",
       "logreg_model         True       0.936004     0.995950    0.928234     NaN   \n",
       "nb_model            False       0.933985     0.978129    0.930123     NaN   \n",
       "\n",
       "             svc__gamma  nb__alpha nb__fit_prior  \n",
       "svc_model         scale        NaN           NaN  \n",
       "logreg_model        NaN        NaN           NaN  \n",
       "nb_model            NaN        0.1          True  "
      ]
     },
     "execution_count": 157,
     "metadata": {},
     "output_type": "execute_result"
    }
   ],
   "source": [
    "# Making model_params into a DataFrame, which shows the best parameters and test/train scores for each model,\n",
    "# sorted by highest average Grid Search score.\n",
    "\n",
    "models_df = pd.DataFrame.from_dict(model_params, orient='index')\n",
    "models_df.sort_values(by= 'gs_best_score', ascending=False)"
   ]
  },
  {
   "cell_type": "code",
   "execution_count": 158,
   "metadata": {},
   "outputs": [
    {
     "data": {
      "text/html": [
       "<div>\n",
       "<style scoped>\n",
       "    .dataframe tbody tr th:only-of-type {\n",
       "        vertical-align: middle;\n",
       "    }\n",
       "\n",
       "    .dataframe tbody tr th {\n",
       "        vertical-align: top;\n",
       "    }\n",
       "\n",
       "    .dataframe thead th {\n",
       "        text-align: right;\n",
       "    }\n",
       "</style>\n",
       "<table border=\"1\" class=\"dataframe\">\n",
       "  <thead>\n",
       "    <tr style=\"text-align: right;\">\n",
       "      <th></th>\n",
       "      <th>cvec__max_features</th>\n",
       "      <th>cvec__stop_words</th>\n",
       "      <th>logreg__C</th>\n",
       "      <th>logreg__penalty</th>\n",
       "      <th>tf__use_idf</th>\n",
       "      <th>gs_best_score</th>\n",
       "      <th>train_score</th>\n",
       "      <th>test_score</th>\n",
       "      <th>svc__C</th>\n",
       "      <th>svc__gamma</th>\n",
       "      <th>nb__alpha</th>\n",
       "      <th>nb__fit_prior</th>\n",
       "    </tr>\n",
       "  </thead>\n",
       "  <tbody>\n",
       "    <tr>\n",
       "      <th>svc_model</th>\n",
       "      <td>NaN</td>\n",
       "      <td>None</td>\n",
       "      <td>NaN</td>\n",
       "      <td>NaN</td>\n",
       "      <td>True</td>\n",
       "      <td>0.900365</td>\n",
       "      <td>0.997975</td>\n",
       "      <td>0.898961</td>\n",
       "      <td>10.0</td>\n",
       "      <td>scale</td>\n",
       "      <td>NaN</td>\n",
       "      <td>NaN</td>\n",
       "    </tr>\n",
       "    <tr>\n",
       "      <th>logreg_model</th>\n",
       "      <td>NaN</td>\n",
       "      <td>None</td>\n",
       "      <td>10.0</td>\n",
       "      <td>l2</td>\n",
       "      <td>True</td>\n",
       "      <td>0.897121</td>\n",
       "      <td>0.991090</td>\n",
       "      <td>0.893296</td>\n",
       "      <td>NaN</td>\n",
       "      <td>NaN</td>\n",
       "      <td>NaN</td>\n",
       "      <td>NaN</td>\n",
       "    </tr>\n",
       "    <tr>\n",
       "      <th>nb_model</th>\n",
       "      <td>2000.0</td>\n",
       "      <td>None</td>\n",
       "      <td>NaN</td>\n",
       "      <td>NaN</td>\n",
       "      <td>True</td>\n",
       "      <td>0.894697</td>\n",
       "      <td>0.953017</td>\n",
       "      <td>0.897073</td>\n",
       "      <td>NaN</td>\n",
       "      <td>NaN</td>\n",
       "      <td>0.1</td>\n",
       "      <td>True</td>\n",
       "    </tr>\n",
       "  </tbody>\n",
       "</table>\n",
       "</div>"
      ],
      "text/plain": [
       "              cvec__max_features cvec__stop_words  logreg__C logreg__penalty  \\\n",
       "svc_model                    NaN             None        NaN             NaN   \n",
       "logreg_model                 NaN             None       10.0              l2   \n",
       "nb_model                  2000.0             None        NaN             NaN   \n",
       "\n",
       "              tf__use_idf  gs_best_score  train_score  test_score  svc__C  \\\n",
       "svc_model            True       0.900365     0.997975    0.898961    10.0   \n",
       "logreg_model         True       0.897121     0.991090    0.893296     NaN   \n",
       "nb_model             True       0.894697     0.953017    0.897073     NaN   \n",
       "\n",
       "             svc__gamma  nb__alpha nb__fit_prior  \n",
       "svc_model         scale        NaN           NaN  \n",
       "logreg_model        NaN        NaN           NaN  \n",
       "nb_model            NaN        0.1          True  "
      ]
     },
     "execution_count": 158,
     "metadata": {},
     "output_type": "execute_result"
    }
   ],
   "source": [
    "# Making model_params_omit into a DataFrame, which shows the best parameters and test/train scores for each model,\n",
    "# sorted by highest average Grid Search score.\n",
    "\n",
    "models_df_omit = pd.DataFrame.from_dict(model_params_omit, orient='index')\n",
    "models_df_omit.sort_values(by= 'gs_best_score', ascending=False)"
   ]
  },
  {
   "cell_type": "code",
   "execution_count": 159,
   "metadata": {},
   "outputs": [],
   "source": [
    "test_coef = models_df_omit.sort_values(by= 'gs_best_score', ascending=False)[['test_score']]\n",
    "test_coef.rename(columns={'test_score':'Test Score (Crossword and Sudoku Omitted)'}, inplace = True)\n",
    "test_coef['test_score'] = models_df.sort_values(by= 'gs_best_score', ascending=False)['test_score']\n",
    "test_coef.rename(columns={'test_score':'Test Score'}, inplace=True)"
   ]
  },
  {
   "cell_type": "code",
   "execution_count": 160,
   "metadata": {},
   "outputs": [],
   "source": [
    "train_coef = models_df_omit.sort_values(by= 'gs_best_score', ascending=False)[['train_score']]\n",
    "train_coef.rename(columns={'train_score':'Train Score (Crossword and Sudoku Omitted)'}, inplace = True)\n",
    "train_coef['train_score'] = models_df.sort_values(by= 'gs_best_score', ascending=False)['train_score']\n",
    "train_coef.rename(columns={'train_score':'Train Score'}, inplace=True)"
   ]
  },
  {
   "cell_type": "code",
   "execution_count": 161,
   "metadata": {},
   "outputs": [],
   "source": [
    "coefs = pd.concat([train_coef, test_coef], axis=1)"
   ]
  },
  {
   "cell_type": "code",
   "execution_count": 162,
   "metadata": {},
   "outputs": [
    {
     "data": {
      "text/html": [
       "<div>\n",
       "<style scoped>\n",
       "    .dataframe tbody tr th:only-of-type {\n",
       "        vertical-align: middle;\n",
       "    }\n",
       "\n",
       "    .dataframe tbody tr th {\n",
       "        vertical-align: top;\n",
       "    }\n",
       "\n",
       "    .dataframe thead th {\n",
       "        text-align: right;\n",
       "    }\n",
       "</style>\n",
       "<table border=\"1\" class=\"dataframe\">\n",
       "  <thead>\n",
       "    <tr style=\"text-align: right;\">\n",
       "      <th></th>\n",
       "      <th>Train Score</th>\n",
       "      <th>Train Score (Crossword and Sudoku Omitted)</th>\n",
       "      <th>Test Score</th>\n",
       "      <th>Test Score (Crossword and Sudoku Omitted)</th>\n",
       "    </tr>\n",
       "  </thead>\n",
       "  <tbody>\n",
       "    <tr>\n",
       "      <th>svc_model</th>\n",
       "      <td>0.997975</td>\n",
       "      <td>0.997975</td>\n",
       "      <td>0.930123</td>\n",
       "      <td>0.898961</td>\n",
       "    </tr>\n",
       "    <tr>\n",
       "      <th>logreg_model</th>\n",
       "      <td>0.995950</td>\n",
       "      <td>0.991090</td>\n",
       "      <td>0.928234</td>\n",
       "      <td>0.893296</td>\n",
       "    </tr>\n",
       "    <tr>\n",
       "      <th>nb_model</th>\n",
       "      <td>0.978129</td>\n",
       "      <td>0.953017</td>\n",
       "      <td>0.930123</td>\n",
       "      <td>0.897073</td>\n",
       "    </tr>\n",
       "  </tbody>\n",
       "</table>\n",
       "</div>"
      ],
      "text/plain": [
       "              Train Score  Train Score (Crossword and Sudoku Omitted)  \\\n",
       "svc_model        0.997975                                    0.997975   \n",
       "logreg_model     0.995950                                    0.991090   \n",
       "nb_model         0.978129                                    0.953017   \n",
       "\n",
       "              Test Score  Test Score (Crossword and Sudoku Omitted)  \n",
       "svc_model       0.930123                                   0.898961  \n",
       "logreg_model    0.928234                                   0.893296  \n",
       "nb_model        0.930123                                   0.897073  "
      ]
     },
     "execution_count": 162,
     "metadata": {},
     "output_type": "execute_result"
    }
   ],
   "source": [
    "coefs[['Train Score', 'Train Score (Crossword and Sudoku Omitted)', 'Test Score', 'Test Score (Crossword and Sudoku Omitted)']]"
   ]
  },
  {
   "cell_type": "markdown",
   "metadata": {},
   "source": [
    "## Interpretation of scores"
   ]
  },
  {
   "cell_type": "markdown",
   "metadata": {},
   "source": [
    "After omitting 'crossword' and 'sudoku' from the Reddit text, the gs_best_scores shrank ~4%, train_scores stayed relatively the same, and test_scores shrank 3-4% for each of the three models. "
   ]
  },
  {
   "cell_type": "markdown",
   "metadata": {},
   "source": [
    "- Logistic Regression, Naive Bayes, and Support Vector Classifier all received similarly high scores when predicting with both sets of data (kept and omitted). \n",
    "- **Logistic Regression** produced the highest test score when the data included 'crossword' and 'sudoku' in the text, while the **Support Vector Classifier** produced the highest test score when the data omitted those two words. \n",
    "- Higher test scores typically indicate that a model is less overfit, which suggests that Logistic Regression and Support Vector Classifier are the ideal models to leverage with their respective aforementioned datasets. "
   ]
  },
  {
   "cell_type": "markdown",
   "metadata": {},
   "source": [
    "Since the presence of 'crossword' and 'sudoku' in the text column are obvious indicators of the corresponding subreddit values (they're the titles of the actual subreddits), it's likely more insightful to explore feature importance and other modes of interpretation with the data that omit those words. "
   ]
  },
  {
   "cell_type": "code",
   "execution_count": 163,
   "metadata": {},
   "outputs": [
    {
     "data": {
      "image/png": "[encoded data removed]",
      "text/plain": [
       "<Figure size 432x288 with 2 Axes>"
      ]
     },
     "metadata": {
      "needs_background": "light"
     },
     "output_type": "display_data"
    }
   ],
   "source": [
    "# Creating a confusion matrix from the Support Vector Classifier model\n",
    "preds_svc_omit = gs_svc_omit.predict(X_test_omit)\n",
    "\n",
    "tn, fp, fn, tp = confusion_matrix(y_test_omit, preds_svc_omit).ravel()\n",
    "\n",
    "plot_confusion_matrix(gs_svc_omit, X_test_omit, y_test_omit, cmap='Blues', values_format='d')\n",
    "plt.xticks(ticks=[0,1], labels=['Sudoku', 'Crossword'])\n",
    "plt.yticks(ticks=[0,1], labels=['Sudoku', 'Crossword'])\n",
    "plt.title('Confusion Matrix for Test Data Predictions Using SVC Model');"
   ]
  },
  {
   "cell_type": "code",
   "execution_count": 164,
   "metadata": {},
   "outputs": [
    {
     "name": "stdout",
     "output_type": "stream",
     "text": [
      "Accuracy: 0.898961284230406\n",
      "Misclassification Rate: 0.101038715769594\n",
      "Sensitivity: 0.9221854304635762\n",
      "Specificity: 0.8681318681318682\n"
     ]
    }
   ],
   "source": [
    "# Calculating classification metrics from the confusion matrix\n",
    "spec = tn / (tn + fp)\n",
    "accuracy = (tp + tn) / (tp + tn + fp + fn)\n",
    "sens = tp / (tp + fn)\n",
    "misclass = 1 - accuracy\n",
    "\n",
    "print('Accuracy:', accuracy) # What percentage of observations did I correctly predict?\n",
    "print('Misclassification Rate:', misclass) # What percentage of observations did I incorrectly predict?\n",
    "print('Sensitivity:', sens) # Among all the text from crossword subreddit, how many did I get correct?\n",
    "print('Specificity:', spec) # Among all the text from sudoku subreddit, how many did I get correct?"
   ]
  },
  {
   "cell_type": "markdown",
   "metadata": {},
   "source": [
    "- The SVC model predicted 89.9% of observations correctly. \n",
    "- Among all the text from crossword subreddit, 92.2% were correctly predicted to be in the crossword subreddit. \n",
    "- Among all the text from sudoku subreddit, 86.8% were correctly predicted to be in the sudoku subreddit. "
   ]
  },
  {
   "cell_type": "code",
   "execution_count": 165,
   "metadata": {},
   "outputs": [
    {
     "data": {
      "text/plain": [
       "LogisticRegression()"
      ]
     },
     "execution_count": 165,
     "metadata": {},
     "output_type": "execute_result"
    }
   ],
   "source": [
    "# Fitting a Logistic Regression model with CountVectorized data\n",
    "model = LogisticRegression()\n",
    "model.fit(X_train_cvec, y_train_omit)"
   ]
  },
  {
   "cell_type": "code",
   "execution_count": 166,
   "metadata": {},
   "outputs": [],
   "source": [
    "# Sorting the index of the coefficient list and grabbing feature names\n",
    "sorted_coef_index = model.coef_[0].argsort()\n",
    "feature_names = np.array(fitted.get_feature_names())"
   ]
  },
  {
   "cell_type": "code",
   "execution_count": 167,
   "metadata": {},
   "outputs": [
    {
     "data": {
      "text/html": [
       "<div>\n",
       "<style scoped>\n",
       "    .dataframe tbody tr th:only-of-type {\n",
       "        vertical-align: middle;\n",
       "    }\n",
       "\n",
       "    .dataframe tbody tr th {\n",
       "        vertical-align: top;\n",
       "    }\n",
       "\n",
       "    .dataframe thead th {\n",
       "        text-align: right;\n",
       "    }\n",
       "</style>\n",
       "<table border=\"1\" class=\"dataframe\">\n",
       "  <thead>\n",
       "    <tr style=\"text-align: right;\">\n",
       "      <th></th>\n",
       "      <th>Smallest Coefficients</th>\n",
       "      <th>Largest Coefficients</th>\n",
       "    </tr>\n",
       "  </thead>\n",
       "  <tbody>\n",
       "    <tr>\n",
       "      <th>0</th>\n",
       "      <td>hard</td>\n",
       "      <td>nyt</td>\n",
       "    </tr>\n",
       "    <tr>\n",
       "      <th>1</th>\n",
       "      <td>technique</td>\n",
       "      <td>word</td>\n",
       "    </tr>\n",
       "    <tr>\n",
       "      <th>2</th>\n",
       "      <td>stuck</td>\n",
       "      <td>themeless</td>\n",
       "    </tr>\n",
       "    <tr>\n",
       "      <th>3</th>\n",
       "      <td>logic</td>\n",
       "      <td>themed</td>\n",
       "    </tr>\n",
       "    <tr>\n",
       "      <th>4</th>\n",
       "      <td>killer</td>\n",
       "      <td>answer</td>\n",
       "    </tr>\n",
       "    <tr>\n",
       "      <th>5</th>\n",
       "      <td>variant</td>\n",
       "      <td>clue</td>\n",
       "    </tr>\n",
       "    <tr>\n",
       "      <th>6</th>\n",
       "      <td>strategy</td>\n",
       "      <td>tuesday</td>\n",
       "    </tr>\n",
       "    <tr>\n",
       "      <th>7</th>\n",
       "      <td>expert</td>\n",
       "      <td>puz</td>\n",
       "    </tr>\n",
       "    <tr>\n",
       "      <th>8</th>\n",
       "      <td>cracking</td>\n",
       "      <td>saturday</td>\n",
       "    </tr>\n",
       "    <tr>\n",
       "      <th>9</th>\n",
       "      <td>step</td>\n",
       "      <td>theme</td>\n",
       "    </tr>\n",
       "  </tbody>\n",
       "</table>\n",
       "</div>"
      ],
      "text/plain": [
       "  Smallest Coefficients Largest Coefficients\n",
       "0                  hard                  nyt\n",
       "1             technique                 word\n",
       "2                 stuck            themeless\n",
       "3                 logic               themed\n",
       "4                killer               answer\n",
       "5               variant                 clue\n",
       "6              strategy              tuesday\n",
       "7                expert                  puz\n",
       "8              cracking             saturday\n",
       "9                  step                theme"
      ]
     },
     "execution_count": 167,
     "metadata": {},
     "output_type": "execute_result"
    }
   ],
   "source": [
    "# Grabbing the top ten highest coefficients and top ten lowest coefficients\n",
    "\n",
    "data = {'Smallest Coefficients' : feature_names[sorted_coef_index[:10]],\n",
    "        'Largest Coefficients' : feature_names[sorted_coef_index[:-11:-1]]}\n",
    "significant_coefs = pd.DataFrame(data)\n",
    "\n",
    "significant_coefs"
   ]
  },
  {
   "cell_type": "code",
   "execution_count": 168,
   "metadata": {},
   "outputs": [
    {
     "data": {
      "text/plain": [
       "array([-2.62262302, -2.50337654, -2.14022108, ...,  2.22747381,\n",
       "        2.35223738,  2.73915714])"
      ]
     },
     "execution_count": 168,
     "metadata": {},
     "output_type": "execute_result"
    }
   ],
   "source": [
    "# Grabbing the values of the ordered list of coefficients\n",
    "ordered_coef_vals = model.coef_[0][model.coef_[0].argsort()]\n",
    "ordered_coef_vals"
   ]
  },
  {
   "cell_type": "code",
   "execution_count": 170,
   "metadata": {},
   "outputs": [
    {
     "data": {
      "image/png": "[encoded data removed]",
      "text/plain": [
       "<Figure size 1080x576 with 1 Axes>"
      ]
     },
     "metadata": {
      "needs_background": "light"
     },
     "output_type": "display_data"
    }
   ],
   "source": [
    "# Plotting the top ten coefficients by value\n",
    "plt.figure(figsize=(15,8))\n",
    "plot = plt.bar(x = feature_names[sorted_coef_index[:-11:-1]], height = ordered_coef_vals[:-11:-1])\n",
    "plt.title('Words with Largest Coefficients from Logistic Regression Model');"
   ]
  },
  {
   "cell_type": "code",
   "execution_count": 171,
   "metadata": {},
   "outputs": [
    {
     "data": {
      "image/png": "[encoded data removed]",
      "text/plain": [
       "<Figure size 1080x576 with 1 Axes>"
      ]
     },
     "metadata": {
      "needs_background": "light"
     },
     "output_type": "display_data"
    }
   ],
   "source": [
    "# Plotting the bottom ten coefficients by value\n",
    "plt.figure(figsize=(15,8))\n",
    "plot = plt.bar(x = feature_names[sorted_coef_index[0:10]], height = ordered_coef_vals[0:10])\n",
    "plt.title('Words with Lowest Coefficients from Logistic Regression Model');"
   ]
  },
  {
   "cell_type": "markdown",
   "metadata": {},
   "source": [
    "Interpretation: \n",
    "\n",
    "* Most of the larger coefficients look more specific to crosswords than to sudoku. New York Times crosswords are the most popular brand of crosswords, so using the 'nyt' in the crossword subreddit is expectedly common. Crosswords have themes, obviously a lot of words, and clues, whereas sudoku doesn't have those types of things.  \n",
    "\n",
    "* Most of the words with small coefficients fit better to what sudoku is all about. Sudoku is very analytical and numbers-heavy, so words like logic make a lot of sense. 'Cracking' brings 'cracking the code' to mind. Technique and strategy are likely discussed more in sudoku; crosswords have their strategies, but a lot of the puzzle is simply having an advanced vocabulary and learning the tricks the clues use. "
   ]
  }
 ],
 "metadata": {
  "kernelspec": {
   "display_name": "Python 3",
   "language": "python",
   "name": "python3"
  },
  "language_info": {
   "codemirror_mode": {
    "name": "ipython",
    "version": 3
   },
   "file_extension": ".py",
   "mimetype": "text/x-python",
   "name": "python",
   "nbconvert_exporter": "python",
   "pygments_lexer": "ipython3",
   "version": "3.8.3"
  }
 },
 "nbformat": 4,
 "nbformat_minor": 4
}
