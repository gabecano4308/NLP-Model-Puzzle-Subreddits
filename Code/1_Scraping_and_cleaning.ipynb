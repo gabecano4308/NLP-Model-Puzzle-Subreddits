{
 "cells": [
  {
   "cell_type": "markdown",
   "metadata": {},
   "source": [
    "## Imports"
   ]
  },
  {
   "cell_type": "code",
   "execution_count": 1402,
   "metadata": {},
   "outputs": [],
   "source": [
    "import pandas as pd\n",
    "import numpy as np\n",
    "import matplotlib.pyplot as plt\n",
    "import seaborn as sns\n",
    "import requests\n",
    "import time\n",
    "import re\n",
    "import httpimport\n",
    "toolkit = 'https://raw.githubusercontent.com/zach-brown-18/class-toolkit/main/eda/'\n",
    "with httpimport.remote_repo('nan', toolkit):\n",
    "    import nan"
   ]
  },
  {
   "cell_type": "markdown",
   "metadata": {},
   "source": [
    "Importing a GA DSI 1019 course toolkit above, started courtesy of [Zach B](https://github.com/zach-brown-18/class-toolkit)."
   ]
  },
  {
   "cell_type": "markdown",
   "metadata": {},
   "source": [
    "## Data Scraping"
   ]
  },
  {
   "cell_type": "code",
   "execution_count": 1403,
   "metadata": {},
   "outputs": [],
   "source": [
    "url = 'https://api.pushshift.io/reddit/search/submission' # Setting the Pushshift API URL"
   ]
  },
  {
   "cell_type": "code",
   "execution_count": 1404,
   "metadata": {},
   "outputs": [],
   "source": [
    "# Function that takes the subreddit name and the number of posts wanted (in returns of 100 posts).\n",
    "# Function structure partially developed with help from Will Hanley.\n",
    "\n",
    "def scan_posts(subreddit, num_posts):\n",
    "    total = []\n",
    "    new_epoch = 1606799061 \n",
    "    for i in range(num_posts):\n",
    "        params = {'subreddit' : subreddit,\n",
    "             'size' : 100,\n",
    "             'before': new_epoch}\n",
    "        get = requests.get(url, params).json()\n",
    "        new_epoch = get['data'][-1]['created_utc']\n",
    "        total.append(pd.DataFrame(get['data'])[['subreddit','title', 'selftext']])\n",
    "        time.sleep(2)\n",
    "    return pd.concat(total).reset_index()"
   ]
  },
  {
   "cell_type": "code",
   "execution_count": 1405,
   "metadata": {},
   "outputs": [],
   "source": [
    "# Setting data for 1200 posts from sudoku subreddit\n",
    "sud_posts = scan_posts('sudoku', 12)"
   ]
  },
  {
   "cell_type": "code",
   "execution_count": 1406,
   "metadata": {},
   "outputs": [],
   "source": [
    "# Setting data for 1200 posts from crossword subreddit\n",
    "cw_posts = scan_posts('crossword', 12)"
   ]
  },
  {
   "cell_type": "code",
   "execution_count": 1449,
   "metadata": {},
   "outputs": [],
   "source": [
    "cw_posts.to_csv('./Data/cw_posts.csv', index=False)\n",
    "cw_posts.drop(columns='index', inplace=True)"
   ]
  },
  {
   "cell_type": "code",
   "execution_count": 1450,
   "metadata": {},
   "outputs": [],
   "source": [
    "sud_posts.to_csv('./Data/sud_posts.csv', index=False)\n",
    "sud_posts.drop(columns='index', inplace=True)"
   ]
  },
  {
   "cell_type": "code",
   "execution_count": 1451,
   "metadata": {},
   "outputs": [
    {
     "data": {
      "text/html": [
       "<div>\n",
       "<style scoped>\n",
       "    .dataframe tbody tr th:only-of-type {\n",
       "        vertical-align: middle;\n",
       "    }\n",
       "\n",
       "    .dataframe tbody tr th {\n",
       "        vertical-align: top;\n",
       "    }\n",
       "\n",
       "    .dataframe thead th {\n",
       "        text-align: right;\n",
       "    }\n",
       "</style>\n",
       "<table border=\"1\" class=\"dataframe\">\n",
       "  <thead>\n",
       "    <tr style=\"text-align: right;\">\n",
       "      <th></th>\n",
       "      <th>subreddit</th>\n",
       "      <th>title</th>\n",
       "      <th>selftext</th>\n",
       "    </tr>\n",
       "  </thead>\n",
       "  <tbody>\n",
       "    <tr>\n",
       "      <th>0</th>\n",
       "      <td>crossword</td>\n",
       "      <td>Milestone: 500!</td>\n",
       "      <td>Could’ve been more like 800, but I missed a fe...</td>\n",
       "    </tr>\n",
       "    <tr>\n",
       "      <th>1</th>\n",
       "      <td>crossword</td>\n",
       "      <td>NYT Tuesday 12/01/2020 Discussion</td>\n",
       "      <td>Spoilers are welcome in here, beware!\\n\\nHow w...</td>\n",
       "    </tr>\n",
       "    <tr>\n",
       "      <th>2</th>\n",
       "      <td>crossword</td>\n",
       "      <td>NYT Tuesday 12/01/2020 Discussion</td>\n",
       "      <td>Spoilers are welcome in here, beware!\\n\\nHow w...</td>\n",
       "    </tr>\n",
       "    <tr>\n",
       "      <th>3</th>\n",
       "      <td>crossword</td>\n",
       "      <td>NYT Tuesday 12/01/2020 Discussion</td>\n",
       "      <td>Spoilers are welcome in here, beware!\\n\\nHow w...</td>\n",
       "    </tr>\n",
       "    <tr>\n",
       "      <th>4</th>\n",
       "      <td>crossword</td>\n",
       "      <td>NYT Tuesday 12/01/2020 Discussion</td>\n",
       "      <td>Spoilers are welcome in here, beware!\\n\\nHow w...</td>\n",
       "    </tr>\n",
       "  </tbody>\n",
       "</table>\n",
       "</div>"
      ],
      "text/plain": [
       "   subreddit                              title  \\\n",
       "0  crossword                    Milestone: 500!   \n",
       "1  crossword  NYT Tuesday 12/01/2020 Discussion   \n",
       "2  crossword  NYT Tuesday 12/01/2020 Discussion   \n",
       "3  crossword  NYT Tuesday 12/01/2020 Discussion   \n",
       "4  crossword  NYT Tuesday 12/01/2020 Discussion   \n",
       "\n",
       "                                            selftext  \n",
       "0  Could’ve been more like 800, but I missed a fe...  \n",
       "1  Spoilers are welcome in here, beware!\\n\\nHow w...  \n",
       "2  Spoilers are welcome in here, beware!\\n\\nHow w...  \n",
       "3  Spoilers are welcome in here, beware!\\n\\nHow w...  \n",
       "4  Spoilers are welcome in here, beware!\\n\\nHow w...  "
      ]
     },
     "execution_count": 1451,
     "metadata": {},
     "output_type": "execute_result"
    }
   ],
   "source": [
    "cw_posts.head()"
   ]
  },
  {
   "cell_type": "code",
   "execution_count": 1452,
   "metadata": {},
   "outputs": [
    {
     "data": {
      "text/html": [
       "<div>\n",
       "<style scoped>\n",
       "    .dataframe tbody tr th:only-of-type {\n",
       "        vertical-align: middle;\n",
       "    }\n",
       "\n",
       "    .dataframe tbody tr th {\n",
       "        vertical-align: top;\n",
       "    }\n",
       "\n",
       "    .dataframe thead th {\n",
       "        text-align: right;\n",
       "    }\n",
       "</style>\n",
       "<table border=\"1\" class=\"dataframe\">\n",
       "  <thead>\n",
       "    <tr style=\"text-align: right;\">\n",
       "      <th></th>\n",
       "      <th>subreddit</th>\n",
       "      <th>title</th>\n",
       "      <th>selftext</th>\n",
       "    </tr>\n",
       "  </thead>\n",
       "  <tbody>\n",
       "    <tr>\n",
       "      <th>0</th>\n",
       "      <td>sudoku</td>\n",
       "      <td>Need help and want to learn advanced technique...</td>\n",
       "      <td></td>\n",
       "    </tr>\n",
       "    <tr>\n",
       "      <th>1</th>\n",
       "      <td>sudoku</td>\n",
       "      <td>Can someone help me with this?</td>\n",
       "      <td></td>\n",
       "    </tr>\n",
       "    <tr>\n",
       "      <th>2</th>\n",
       "      <td>sudoku</td>\n",
       "      <td>Need help</td>\n",
       "      <td></td>\n",
       "    </tr>\n",
       "    <tr>\n",
       "      <th>3</th>\n",
       "      <td>sudoku</td>\n",
       "      <td>Kingdom Battle Sudoku (3 PUZZLES INCLUDED)</td>\n",
       "      <td>Check all the puzzles in here!\\n\\n[https://dri...</td>\n",
       "    </tr>\n",
       "    <tr>\n",
       "      <th>4</th>\n",
       "      <td>sudoku</td>\n",
       "      <td>This 1-star sudoku puzzle in a Chinese Sudoku ...</td>\n",
       "      <td></td>\n",
       "    </tr>\n",
       "  </tbody>\n",
       "</table>\n",
       "</div>"
      ],
      "text/plain": [
       "  subreddit                                              title  \\\n",
       "0    sudoku  Need help and want to learn advanced technique...   \n",
       "1    sudoku                     Can someone help me with this?   \n",
       "2    sudoku                                          Need help   \n",
       "3    sudoku         Kingdom Battle Sudoku (3 PUZZLES INCLUDED)   \n",
       "4    sudoku  This 1-star sudoku puzzle in a Chinese Sudoku ...   \n",
       "\n",
       "                                            selftext  \n",
       "0                                                     \n",
       "1                                                     \n",
       "2                                                     \n",
       "3  Check all the puzzles in here!\\n\\n[https://dri...  \n",
       "4                                                     "
      ]
     },
     "execution_count": 1452,
     "metadata": {},
     "output_type": "execute_result"
    }
   ],
   "source": [
    "sud_posts.head()"
   ]
  },
  {
   "cell_type": "code",
   "execution_count": 1454,
   "metadata": {},
   "outputs": [
    {
     "name": "stdout",
     "output_type": "stream",
     "text": [
      "(1200, 3)\n",
      "(1200, 3)\n"
     ]
    }
   ],
   "source": [
    "# Each dataframe has 1200 rows and three columns\n",
    "print(cw_posts.shape)\n",
    "print(sud_posts.shape)"
   ]
  },
  {
   "cell_type": "code",
   "execution_count": 1455,
   "metadata": {},
   "outputs": [],
   "source": [
    "# Combining Sudoku and Crossword reddit post datasets\n",
    "posts_both = pd.concat([cw_posts, sud_posts], axis = 0)"
   ]
  },
  {
   "cell_type": "code",
   "execution_count": 1456,
   "metadata": {},
   "outputs": [
    {
     "data": {
      "text/plain": [
       "(2400, 3)"
      ]
     },
     "execution_count": 1456,
     "metadata": {},
     "output_type": "execute_result"
    }
   ],
   "source": [
    "posts_both.shape"
   ]
  },
  {
   "cell_type": "markdown",
   "metadata": {},
   "source": [
    "## Data Cleaning"
   ]
  },
  {
   "cell_type": "code",
   "execution_count": 1457,
   "metadata": {},
   "outputs": [
    {
     "data": {
      "text/html": [
       "<div>\n",
       "<style scoped>\n",
       "    .dataframe tbody tr th:only-of-type {\n",
       "        vertical-align: middle;\n",
       "    }\n",
       "\n",
       "    .dataframe tbody tr th {\n",
       "        vertical-align: top;\n",
       "    }\n",
       "\n",
       "    .dataframe thead th {\n",
       "        text-align: right;\n",
       "    }\n",
       "</style>\n",
       "<table border=\"1\" class=\"dataframe\">\n",
       "  <thead>\n",
       "    <tr style=\"text-align: right;\">\n",
       "      <th></th>\n",
       "      <th>column</th>\n",
       "      <th>null_count</th>\n",
       "    </tr>\n",
       "  </thead>\n",
       "  <tbody>\n",
       "    <tr>\n",
       "      <th>0</th>\n",
       "      <td>selftext</td>\n",
       "      <td>4</td>\n",
       "    </tr>\n",
       "  </tbody>\n",
       "</table>\n",
       "</div>"
      ],
      "text/plain": [
       "     column  null_count\n",
       "0  selftext           4"
      ]
     },
     "execution_count": 1457,
     "metadata": {},
     "output_type": "execute_result"
    }
   ],
   "source": [
    "# There are four null rows in the selftext column\n",
    "nulls = nan.investigate_null(posts_both)\n",
    "nulls"
   ]
  },
  {
   "cell_type": "code",
   "execution_count": 1458,
   "metadata": {},
   "outputs": [
    {
     "name": "stderr",
     "output_type": "stream",
     "text": [
      "/Users/gcano01/opt/anaconda3/lib/python3.8/site-packages/pandas/core/frame.py:4296: SettingWithCopyWarning: \n",
      "A value is trying to be set on a copy of a slice from a DataFrame\n",
      "\n",
      "See the caveats in the documentation: https://pandas.pydata.org/pandas-docs/stable/user_guide/indexing.html#returning-a-view-versus-a-copy\n",
      "  return super().rename(\n"
     ]
    }
   ],
   "source": [
    "# First, I'm creating two dataframes, one with the crossword/sudoku titles and matching subreddits, and the other\n",
    "# with the selftexts and matching subreddits. I'm then concatenating those two dataframes so that the title and selftext\n",
    "# data is combined to simply be 'text'\n",
    "\n",
    "titles_df = posts_both[['title', 'subreddit']]\n",
    "titles_df.rename(columns={'title' : 'text'}, inplace=True)\n",
    "\n",
    "selftext_df = posts_both[['selftext', 'subreddit']]\n",
    "selftext_df.rename(columns={'selftext' : 'text'}, inplace=True)\n",
    "\n",
    "titles_and_text = pd.concat([titles_df, selftext_df], axis=0)"
   ]
  },
  {
   "cell_type": "code",
   "execution_count": 1459,
   "metadata": {},
   "outputs": [
    {
     "data": {
      "text/html": [
       "<div>\n",
       "<style scoped>\n",
       "    .dataframe tbody tr th:only-of-type {\n",
       "        vertical-align: middle;\n",
       "    }\n",
       "\n",
       "    .dataframe tbody tr th {\n",
       "        vertical-align: top;\n",
       "    }\n",
       "\n",
       "    .dataframe thead th {\n",
       "        text-align: right;\n",
       "    }\n",
       "</style>\n",
       "<table border=\"1\" class=\"dataframe\">\n",
       "  <thead>\n",
       "    <tr style=\"text-align: right;\">\n",
       "      <th></th>\n",
       "      <th>text</th>\n",
       "      <th>subreddit</th>\n",
       "    </tr>\n",
       "  </thead>\n",
       "  <tbody>\n",
       "    <tr>\n",
       "      <th>0</th>\n",
       "      <td>Milestone: 500!</td>\n",
       "      <td>crossword</td>\n",
       "    </tr>\n",
       "    <tr>\n",
       "      <th>1</th>\n",
       "      <td>NYT Tuesday 12/01/2020 Discussion</td>\n",
       "      <td>crossword</td>\n",
       "    </tr>\n",
       "    <tr>\n",
       "      <th>2</th>\n",
       "      <td>NYT Tuesday 12/01/2020 Discussion</td>\n",
       "      <td>crossword</td>\n",
       "    </tr>\n",
       "    <tr>\n",
       "      <th>3</th>\n",
       "      <td>NYT Tuesday 12/01/2020 Discussion</td>\n",
       "      <td>crossword</td>\n",
       "    </tr>\n",
       "    <tr>\n",
       "      <th>4</th>\n",
       "      <td>NYT Tuesday 12/01/2020 Discussion</td>\n",
       "      <td>crossword</td>\n",
       "    </tr>\n",
       "  </tbody>\n",
       "</table>\n",
       "</div>"
      ],
      "text/plain": [
       "                                text  subreddit\n",
       "0                    Milestone: 500!  crossword\n",
       "1  NYT Tuesday 12/01/2020 Discussion  crossword\n",
       "2  NYT Tuesday 12/01/2020 Discussion  crossword\n",
       "3  NYT Tuesday 12/01/2020 Discussion  crossword\n",
       "4  NYT Tuesday 12/01/2020 Discussion  crossword"
      ]
     },
     "execution_count": 1459,
     "metadata": {},
     "output_type": "execute_result"
    }
   ],
   "source": [
    "titles_and_text.head()"
   ]
  },
  {
   "cell_type": "code",
   "execution_count": 1460,
   "metadata": {},
   "outputs": [
    {
     "data": {
      "text/html": [
       "<div>\n",
       "<style scoped>\n",
       "    .dataframe tbody tr th:only-of-type {\n",
       "        vertical-align: middle;\n",
       "    }\n",
       "\n",
       "    .dataframe tbody tr th {\n",
       "        vertical-align: top;\n",
       "    }\n",
       "\n",
       "    .dataframe thead th {\n",
       "        text-align: right;\n",
       "    }\n",
       "</style>\n",
       "<table border=\"1\" class=\"dataframe\">\n",
       "  <thead>\n",
       "    <tr style=\"text-align: right;\">\n",
       "      <th></th>\n",
       "      <th>text</th>\n",
       "      <th>subreddit</th>\n",
       "    </tr>\n",
       "  </thead>\n",
       "  <tbody>\n",
       "    <tr>\n",
       "      <th>1195</th>\n",
       "      <td>I love the website sudokuexchange.com that /u/...</td>\n",
       "      <td>sudoku</td>\n",
       "    </tr>\n",
       "    <tr>\n",
       "      <th>1196</th>\n",
       "      <td></td>\n",
       "      <td>sudoku</td>\n",
       "    </tr>\n",
       "    <tr>\n",
       "      <th>1197</th>\n",
       "      <td>Hey everyone! I recently got into sudokus, and...</td>\n",
       "      <td>sudoku</td>\n",
       "    </tr>\n",
       "    <tr>\n",
       "      <th>1198</th>\n",
       "      <td></td>\n",
       "      <td>sudoku</td>\n",
       "    </tr>\n",
       "    <tr>\n",
       "      <th>1199</th>\n",
       "      <td></td>\n",
       "      <td>sudoku</td>\n",
       "    </tr>\n",
       "  </tbody>\n",
       "</table>\n",
       "</div>"
      ],
      "text/plain": [
       "                                                   text subreddit\n",
       "1195  I love the website sudokuexchange.com that /u/...    sudoku\n",
       "1196                                                       sudoku\n",
       "1197  Hey everyone! I recently got into sudokus, and...    sudoku\n",
       "1198                                                       sudoku\n",
       "1199                                                       sudoku"
      ]
     },
     "execution_count": 1460,
     "metadata": {},
     "output_type": "execute_result"
    }
   ],
   "source": [
    "titles_and_text.tail()"
   ]
  },
  {
   "cell_type": "code",
   "execution_count": 1430,
   "metadata": {},
   "outputs": [],
   "source": [
    "# Dropping the four rows with NA values in the text column\n",
    "titles_and_text.dropna(inplace=True)"
   ]
  },
  {
   "cell_type": "code",
   "execution_count": 1431,
   "metadata": {},
   "outputs": [
    {
     "data": {
      "text/plain": [
       "(4796, 2)"
      ]
     },
     "execution_count": 1431,
     "metadata": {},
     "output_type": "execute_result"
    }
   ],
   "source": [
    "titles_and_text.shape"
   ]
  },
  {
   "cell_type": "code",
   "execution_count": 1432,
   "metadata": {},
   "outputs": [],
   "source": [
    "# Binarizing subreddit column\n",
    "titles_and_text['subreddit'] = titles_and_text['subreddit'].map({'sudoku' : 0, 'crossword' : 1})"
   ]
  },
  {
   "cell_type": "code",
   "execution_count": 1434,
   "metadata": {},
   "outputs": [],
   "source": [
    "# This function makes all text lower case and makes unwanted rows blank\n",
    "\n",
    "def drop_noise(column):\n",
    "    clean = []\n",
    "    for text in column:\n",
    "        # Make text lower case\n",
    "        text = text.lower()\n",
    "        \n",
    "        # Remove urls from text\n",
    "        text = re.sub('https?://\\S+\\www\\.\\S+', '', str(text)) \n",
    "        \n",
    "        # Remove ampersand references\n",
    "        text = re.sub('&amp;\\S*', '', text)\n",
    "        \n",
    "        # Remove text enclosed by brackets\n",
    "        text = re.sub('\\[.*?\\]', '', text)\n",
    "        \n",
    "        # Keep text containing letters A-z and digits that represent dollar amounts\n",
    "        tokenizer = RegexpTokenizer(r'[A-z]+|\\$[0-9]*\\S*\\d')\n",
    "        text = ' '.join(tokenizer.tokenize(text))\n",
    "        \n",
    "        clean.append(str(text))\n",
    "        \n",
    "    return clean"
   ]
  },
  {
   "cell_type": "code",
   "execution_count": 1435,
   "metadata": {},
   "outputs": [],
   "source": [
    "# This function removes all instances of the words 'crossword' and 'sudoku' from\n",
    "# the column of combined text, with the intent to make a model's subreddit predictions less obvious\n",
    "\n",
    "def drop_obvious(column):\n",
    "    no_crossword_or_sudoku = []\n",
    "    \n",
    "    for text in column:\n",
    "        text = re.sub('crossword', '', text)\n",
    "        text = re.sub('sudoku', '', text)\n",
    "        no_crossword_or_sudoku.append(str(text))\n",
    "        \n",
    "    return no_crossword_or_sudoku"
   ]
  },
  {
   "cell_type": "markdown",
   "metadata": {},
   "source": [
    "Above function partially taken from [stack overflow](https://stackoverflow.com/questions/11331982/how-to-remove-any-url-within-a-string-in-python) and this [site](https://kanoki.org/2019/11/12/how-to-use-regex-in-pandas/). Code formatting developed with some help from classmate Aziz Maredia."
   ]
  },
  {
   "cell_type": "code",
   "execution_count": 1436,
   "metadata": {},
   "outputs": [],
   "source": [
    "# Running drop_noise on the column of subreddit text\n",
    "titles_and_text['text'] = drop_noise(titles_and_text['text'])"
   ]
  },
  {
   "cell_type": "code",
   "execution_count": 1438,
   "metadata": {},
   "outputs": [],
   "source": [
    "# Dropping all blank text rows\n",
    "titles_and_text = titles_and_text[titles_and_text['text'] != '']\n",
    "\n",
    "# Many rows had nothing but '[', so removing all of those as well\n",
    "titles_and_text = titles_and_text[titles_and_text['text'] != '[']"
   ]
  },
  {
   "cell_type": "code",
   "execution_count": 1439,
   "metadata": {},
   "outputs": [
    {
     "data": {
      "text/plain": [
       "(3528, 2)"
      ]
     },
     "execution_count": 1439,
     "metadata": {},
     "output_type": "execute_result"
    }
   ],
   "source": [
    "# There were 1268 blank text rows after running drop_noise() on titles_and_text['text'], so now 1241 have been \n",
    "# dropped. \n",
    "titles_and_text.shape"
   ]
  },
  {
   "cell_type": "code",
   "execution_count": 1440,
   "metadata": {},
   "outputs": [],
   "source": [
    "# Making a separate DataFrame, which is the same as titles_and_text, except all instances of \n",
    "# the words 'crossword' and 'sudoku' are omitted from the text\n",
    "\n",
    "data = {\n",
    "    'text' : drop_obvious(titles_and_text['text']),\n",
    "    'subreddit' : titles_and_text['subreddit']\n",
    "}\n",
    "\n",
    "titles_and_text_no_cw_or_sudoku = pd.DataFrame(data) \n",
    "\n",
    "titles_and_text_no_cw_or_sudoku = titles_and_text_no_cw_or_sudoku[titles_and_text_no_cw_or_sudoku['text'] != '']\n",
    "\n",
    "# Many rows had nothing but '[', so removing all of those\n",
    "titles_and_text_no_cw_or_sudoku = titles_and_text_no_cw_or_sudoku[titles_and_text_no_cw_or_sudoku['text'] != '[']"
   ]
  },
  {
   "cell_type": "markdown",
   "metadata": {},
   "source": [
    "## Lemmatize data "
   ]
  },
  {
   "cell_type": "code",
   "execution_count": 1441,
   "metadata": {},
   "outputs": [],
   "source": [
    "# This function iterates through text documents, lemmatizes every word in each document, \n",
    "# and returns the entire lemmatized column \n",
    "\n",
    "def lemmatize(column):\n",
    "    lemmatizer = WordNetLemmatizer()\n",
    "    lemmatized = []\n",
    "    for text in column:\n",
    "        lemmatized_text = ' '.join([lemmatizer.lemmatize(word) for word in text.split()])\n",
    "        lemmatized.append(lemmatized_text)\n",
    "    return lemmatized"
   ]
  },
  {
   "cell_type": "code",
   "execution_count": 1442,
   "metadata": {},
   "outputs": [],
   "source": [
    "# Making a separate column in my DataFrames with lemmatized versions of the text\n",
    "titles_and_text['lemmatized_text'] = lemmatize(titles_and_text['text'])\n",
    "titles_and_text_no_cw_or_sudoku['lemmatized_text'] = lemmatize(titles_and_text_no_cw_or_sudoku['text'])"
   ]
  },
  {
   "cell_type": "markdown",
   "metadata": {},
   "source": [
    "Above function formatting developed with some help from Aziz Maredia. "
   ]
  },
  {
   "cell_type": "code",
   "execution_count": 1443,
   "metadata": {},
   "outputs": [],
   "source": [
    "# Resetting index for DataFrames, since there were duplicate index values present\n",
    "titles_and_text = titles_and_text.reset_index(drop=True)\n",
    "titles_and_text_no_cw_or_sudoku = titles_and_text_no_cw_or_sudoku.reset_index(drop=True)"
   ]
  },
  {
   "cell_type": "code",
   "execution_count": 1444,
   "metadata": {},
   "outputs": [],
   "source": [
    "titles_and_text.to_csv('./Data/titles_and_text.csv', index=False)\n",
    "titles_and_text_no_cw_or_sudoku.to_csv('./Data/titles_and_text_no_cw_or_sud.csv', index=False)"
   ]
  }
 ],
 "metadata": {
  "kernelspec": {
   "display_name": "Python 3",
   "language": "python",
   "name": "python3"
  },
  "language_info": {
   "codemirror_mode": {
    "name": "ipython",
    "version": 3
   },
   "file_extension": ".py",
   "mimetype": "text/x-python",
   "name": "python",
   "nbconvert_exporter": "python",
   "pygments_lexer": "ipython3",
   "version": "3.8.3"
  }
 },
 "nbformat": 4,
 "nbformat_minor": 4
}
